{
 "cells": [
  {
   "cell_type": "code",
   "execution_count": 1,
   "id": "cc9edcab",
   "metadata": {},
   "outputs": [
    {
     "name": "stderr",
     "output_type": "stream",
     "text": [
      "2023-10-30 21:36:24.538074: I tensorflow/core/platform/cpu_feature_guard.cc:193] This TensorFlow binary is optimized with oneAPI Deep Neural Network Library (oneDNN) to use the following CPU instructions in performance-critical operations:  AVX2 FMA\n",
      "To enable them in other operations, rebuild TensorFlow with the appropriate compiler flags.\n",
      "2023-10-30 21:36:25.093918: W tensorflow/compiler/xla/stream_executor/platform/default/dso_loader.cc:64] Could not load dynamic library 'libnvinfer.so.7'; dlerror: libnvinfer.so.7: cannot open shared object file: No such file or directory; LD_LIBRARY_PATH: /home/roronoa/.conda/envs/tf/lib/python3.7/site-packages/nvidia/cudnn/lib:/home/roronoa/.conda/envs/tf/lib/:\n",
      "2023-10-30 21:36:25.093994: W tensorflow/compiler/xla/stream_executor/platform/default/dso_loader.cc:64] Could not load dynamic library 'libnvinfer_plugin.so.7'; dlerror: libnvinfer_plugin.so.7: cannot open shared object file: No such file or directory; LD_LIBRARY_PATH: /home/roronoa/.conda/envs/tf/lib/python3.7/site-packages/nvidia/cudnn/lib:/home/roronoa/.conda/envs/tf/lib/:\n",
      "2023-10-30 21:36:25.094003: W tensorflow/compiler/tf2tensorrt/utils/py_utils.cc:38] TF-TRT Warning: Cannot dlopen some TensorRT libraries. If you would like to use Nvidia GPU with TensorRT, please make sure the missing libraries mentioned above are installed properly.\n"
     ]
    }
   ],
   "source": [
    "import os\n",
    "import numpy as np\n",
    "import tensorflow as tf\n",
    "from tensorflow import keras\n",
    "from sklearn.metrics import classification_report, f1_score\n",
    "import shap\n",
    "import random\n",
    "from PIL import Image\n",
    "from tensorflow.keras.preprocessing.image import ImageDataGenerator\n",
    "from sklearn.metrics import classification_report, accuracy_score,f1_score\n",
    "from tensorflow.keras.models import Sequential\n",
    "from tensorflow.keras.layers import Conv2D, MaxPooling2D, Flatten, Dense, BatchNormalization, Dropout"
   ]
  },
  {
   "cell_type": "code",
   "execution_count": 2,
   "id": "0e2587b8",
   "metadata": {},
   "outputs": [],
   "source": [
    "dataset_train = 'Dataset/train'\n",
    "dataset_test = 'Dataset/test'"
   ]
  },
  {
   "cell_type": "code",
   "execution_count": 3,
   "id": "3359523e",
   "metadata": {},
   "outputs": [],
   "source": [
    "img_height, img_width = 150, 150\n",
    "batch_size = 32"
   ]
  },
  {
   "cell_type": "code",
   "execution_count": 4,
   "id": "1f75548b",
   "metadata": {},
   "outputs": [],
   "source": [
    "datagen = ImageDataGenerator(\n",
    "    rescale=1./255,            # Normalize pixel values to [0, 1]\n",
    "    validation_split=0.2,      # Split dataset into training (80%) and validation (20%)\n",
    "    rotation_range=20,         # Randomly rotate images by up to 20 degrees\n",
    "    width_shift_range=0.2,     # Randomly shift the width of images\n",
    "    height_shift_range=0.2,    # Randomly shift the height of images\n",
    "    shear_range=0.2,           # Apply shear transformations\n",
    "    zoom_range=0.2,            # Randomly zoom into images\n",
    "    horizontal_flip=True,      # Randomly flip images horizontally\n",
    "    fill_mode='nearest'        # Fill empty pixels using the nearest available pixel\n",
    ")"
   ]
  },
  {
   "cell_type": "code",
   "execution_count": 5,
   "id": "964c0e3e",
   "metadata": {},
   "outputs": [
    {
     "name": "stdout",
     "output_type": "stream",
     "text": [
      "Found 4187 images belonging to 2 classes.\n"
     ]
    }
   ],
   "source": [
    "train_generator = datagen.flow_from_directory(\n",
    "    dataset_train,\n",
    "    target_size=(img_height, img_width),\n",
    "    batch_size=batch_size,\n",
    "    class_mode='binary',  # Binary classification\n",
    "    subset='training'       # Specify 'training' for the training dataset\n",
    ")"
   ]
  },
  {
   "cell_type": "code",
   "execution_count": 10,
   "id": "b89db8bd",
   "metadata": {},
   "outputs": [
    {
     "name": "stdout",
     "output_type": "stream",
     "text": [
      "Found 1045 images belonging to 2 classes.\n"
     ]
    }
   ],
   "source": [
    "validation_generator = datagen.flow_from_directory(\n",
    "    dataset_train,\n",
    "    target_size=(img_height, img_width),\n",
    "    batch_size=batch_size,\n",
    "    class_mode='binary',  # Binary classification\n",
    "    subset='validation'     # Specify 'validation' for the validation dataset\n",
    ")"
   ]
  },
  {
   "cell_type": "code",
   "execution_count": 11,
   "id": "c53630e9",
   "metadata": {},
   "outputs": [],
   "source": [
    "model = Sequential([\n",
    "    Conv2D(32, (3, 3), activation='relu', input_shape=(img_height, img_width, 3)),\n",
    "    MaxPooling2D(2, 2),\n",
    "    \n",
    "    Conv2D(64, (3, 3), activation='relu'),\n",
    "    MaxPooling2D(2, 2),\n",
    "    \n",
    "    Conv2D(128, (3, 3), activation='relu'),\n",
    "    MaxPooling2D(2, 2),\n",
    "    \n",
    "    Conv2D(256, (3, 3), activation='relu'),\n",
    "    MaxPooling2D(2, 2),\n",
    "    \n",
    "    Flatten(),\n",
    "    Dense(512, activation='relu'),\n",
    "    Dropout(0.5),  # Add dropout for regularization\n",
    "    Dense(256, activation='relu'),\n",
    "    Dropout(0.5),  # Add dropout for regularization\n",
    "    Dense(1, activation='sigmoid')  # Binary classification, so use 'sigmoid' activation\n",
    "])\n"
   ]
  },
  {
   "cell_type": "code",
   "execution_count": 12,
   "id": "107aa4cf",
   "metadata": {},
   "outputs": [],
   "source": [
    "model.compile(optimizer='adam',\n",
    "              loss='binary_crossentropy',  # Binary classification loss\n",
    "              metrics=['accuracy'])"
   ]
  },
  {
   "cell_type": "code",
   "execution_count": 13,
   "id": "c4ac5c66",
   "metadata": {},
   "outputs": [
    {
     "name": "stdout",
     "output_type": "stream",
     "text": [
      "Epoch 1/20\n"
     ]
    },
    {
     "name": "stderr",
     "output_type": "stream",
     "text": [
      "2023-10-30 21:36:46.513210: I tensorflow/compiler/xla/stream_executor/cuda/cuda_dnn.cc:428] Loaded cuDNN version 8500\n",
      "2023-10-30 21:36:46.786926: I tensorflow/tsl/platform/default/subprocess.cc:304] Start cannot spawn child process: No such file or directory\n",
      "2023-10-30 21:36:47.069781: I tensorflow/compiler/xla/stream_executor/cuda/cuda_blas.cc:630] TensorFloat-32 will be used for the matrix multiplication. This will only be logged once.\n",
      "2023-10-30 21:36:47.093375: I tensorflow/compiler/xla/service/service.cc:173] XLA service 0x7f73e8744880 initialized for platform CUDA (this does not guarantee that XLA will be used). Devices:\n",
      "2023-10-30 21:36:47.093401: I tensorflow/compiler/xla/service/service.cc:181]   StreamExecutor device (0): NVIDIA GeForce RTX 3050 Laptop GPU, Compute Capability 8.6\n",
      "2023-10-30 21:36:47.096652: I tensorflow/compiler/mlir/tensorflow/utils/dump_mlir_util.cc:268] disabling MLIR crash reproducer, set env var `MLIR_CRASH_REPRODUCER_DIRECTORY` to enable.\n",
      "2023-10-30 21:36:47.149215: I tensorflow/tsl/platform/default/subprocess.cc:304] Start cannot spawn child process: No such file or directory\n",
      "2023-10-30 21:36:47.183068: I tensorflow/compiler/jit/xla_compilation_cache.cc:477] Compiled cluster using XLA!  This line is logged at most once for the lifetime of the process.\n"
     ]
    },
    {
     "name": "stdout",
     "output_type": "stream",
     "text": [
      "131/131 [==============================] - 35s 248ms/step - loss: 0.5316 - accuracy: 0.7430 - val_loss: 0.4804 - val_accuracy: 0.7426\n",
      "Epoch 2/20\n",
      "131/131 [==============================] - 33s 250ms/step - loss: 0.3570 - accuracy: 0.8290 - val_loss: 0.3249 - val_accuracy: 0.8450\n",
      "Epoch 3/20\n",
      "131/131 [==============================] - 33s 251ms/step - loss: 0.3215 - accuracy: 0.8491 - val_loss: 0.2832 - val_accuracy: 0.8584\n",
      "Epoch 4/20\n",
      "131/131 [==============================] - 33s 250ms/step - loss: 0.2926 - accuracy: 0.8696 - val_loss: 0.3021 - val_accuracy: 0.8459\n",
      "Epoch 5/20\n",
      "131/131 [==============================] - 33s 252ms/step - loss: 0.2932 - accuracy: 0.8706 - val_loss: 0.2874 - val_accuracy: 0.8584\n",
      "Epoch 6/20\n",
      "131/131 [==============================] - 33s 250ms/step - loss: 0.2767 - accuracy: 0.8851 - val_loss: 0.2481 - val_accuracy: 0.8785\n",
      "Epoch 7/20\n",
      "131/131 [==============================] - 33s 251ms/step - loss: 0.2552 - accuracy: 0.8892 - val_loss: 0.2658 - val_accuracy: 0.8794\n",
      "Epoch 8/20\n",
      "131/131 [==============================] - 33s 253ms/step - loss: 0.2465 - accuracy: 0.8944 - val_loss: 0.2516 - val_accuracy: 0.8794\n",
      "Epoch 9/20\n",
      "131/131 [==============================] - 33s 252ms/step - loss: 0.2424 - accuracy: 0.8880 - val_loss: 0.2214 - val_accuracy: 0.9043\n",
      "Epoch 10/20\n",
      "131/131 [==============================] - 33s 250ms/step - loss: 0.2355 - accuracy: 0.9009 - val_loss: 0.3305 - val_accuracy: 0.8545\n",
      "Epoch 11/20\n",
      "131/131 [==============================] - 33s 250ms/step - loss: 0.2214 - accuracy: 0.9083 - val_loss: 0.2363 - val_accuracy: 0.8919\n",
      "Epoch 12/20\n",
      "131/131 [==============================] - 33s 255ms/step - loss: 0.2168 - accuracy: 0.9138 - val_loss: 0.2222 - val_accuracy: 0.8995\n",
      "Epoch 13/20\n",
      "131/131 [==============================] - 33s 255ms/step - loss: 0.2094 - accuracy: 0.9138 - val_loss: 0.2405 - val_accuracy: 0.8852\n",
      "Epoch 14/20\n",
      "131/131 [==============================] - 33s 252ms/step - loss: 0.2139 - accuracy: 0.9138 - val_loss: 0.2108 - val_accuracy: 0.9177\n",
      "Epoch 15/20\n",
      "131/131 [==============================] - 33s 252ms/step - loss: 0.1998 - accuracy: 0.9174 - val_loss: 0.1962 - val_accuracy: 0.9110\n",
      "Epoch 16/20\n",
      "131/131 [==============================] - 33s 252ms/step - loss: 0.1855 - accuracy: 0.9262 - val_loss: 0.1912 - val_accuracy: 0.9072\n",
      "Epoch 17/20\n",
      "131/131 [==============================] - 33s 251ms/step - loss: 0.1727 - accuracy: 0.9300 - val_loss: 0.2233 - val_accuracy: 0.8986\n",
      "Epoch 18/20\n",
      "131/131 [==============================] - 33s 253ms/step - loss: 0.1806 - accuracy: 0.9243 - val_loss: 0.1905 - val_accuracy: 0.9254\n",
      "Epoch 19/20\n",
      "131/131 [==============================] - 33s 252ms/step - loss: 0.1674 - accuracy: 0.9341 - val_loss: 0.1861 - val_accuracy: 0.9177\n",
      "Epoch 20/20\n",
      "131/131 [==============================] - 33s 252ms/step - loss: 0.1670 - accuracy: 0.9360 - val_loss: 0.1883 - val_accuracy: 0.9177\n"
     ]
    },
    {
     "data": {
      "text/plain": [
       "<keras.callbacks.History at 0x7f76d9580490>"
      ]
     },
     "execution_count": 13,
     "metadata": {},
     "output_type": "execute_result"
    }
   ],
   "source": [
    "epochs = 20  # Adjust the number of epochs as needed\n",
    "model.fit(train_generator, validation_data=validation_generator, epochs=epochs)"
   ]
  },
  {
   "cell_type": "code",
   "execution_count": 14,
   "id": "806d777b",
   "metadata": {},
   "outputs": [
    {
     "name": "stdout",
     "output_type": "stream",
     "text": [
      "Found 624 images belonging to 2 classes.\n",
      "20/20 [==============================] - 2s 105ms/step\n"
     ]
    }
   ],
   "source": [
    "test_datagen = ImageDataGenerator(rescale=1./255)\n",
    "test_generator = test_datagen.flow_from_directory(\n",
    "    dataset_test,  # Replace with the path to your test dataset directory\n",
    "    target_size=(img_height, img_width),\n",
    "    batch_size=batch_size,\n",
    "    class_mode='binary',  # Binary classification\n",
    "    shuffle=False  # Do not shuffle the data for evaluation\n",
    ")\n",
    "test_preds = model.predict(test_generator)\n",
    "predicted_classes = np.round(test_preds).flatten()  # Convert probabilities to binary predictions\n",
    "\n",
    "true_classes = test_generator.classes"
   ]
  },
  {
   "cell_type": "code",
   "execution_count": 15,
   "id": "8cdee8a5",
   "metadata": {},
   "outputs": [
    {
     "name": "stdout",
     "output_type": "stream",
     "text": [
      "Accuracy: 0.8990384615384616\n",
      "F1 Score:0.9232643118148598\n",
      "Classification Report:\n",
      "              precision    recall  f1-score   support\n",
      "\n",
      "           0       0.94      0.78      0.85       234\n",
      "           1       0.88      0.97      0.92       390\n",
      "\n",
      "    accuracy                           0.90       624\n",
      "   macro avg       0.91      0.87      0.89       624\n",
      "weighted avg       0.90      0.90      0.90       624\n",
      "\n"
     ]
    }
   ],
   "source": [
    "accuracy = accuracy_score(true_classes, predicted_classes)\n",
    "clr = classification_report(true_classes, predicted_classes)\n",
    "f1 = f1_score(true_classes, predicted_classes)\n",
    "print(f\"Accuracy: {accuracy}\")\n",
    "print(f\"F1 Score:{f1}\")\n",
    "print(f\"Classification Report:\\n{clr}\")"
   ]
  },
  {
   "cell_type": "code",
   "execution_count": 31,
   "id": "24b69229",
   "metadata": {},
   "outputs": [
    {
     "ename": "AttributeError",
     "evalue": "'tuple' object has no attribute 'shape'",
     "output_type": "error",
     "traceback": [
      "\u001b[0;31m---------------------------------------------------------------------------\u001b[0m",
      "\u001b[0;31mAttributeError\u001b[0m                            Traceback (most recent call last)",
      "\u001b[0;32m/tmp/ipykernel_13143/435221527.py\u001b[0m in \u001b[0;36m<module>\u001b[0;34m\u001b[0m\n\u001b[1;32m      2\u001b[0m \u001b[0;34m\u001b[0m\u001b[0m\n\u001b[1;32m      3\u001b[0m \u001b[0;31m# since we have two inputs we pass a list of inputs to the explainer\u001b[0m\u001b[0;34m\u001b[0m\u001b[0;34m\u001b[0m\u001b[0;34m\u001b[0m\u001b[0m\n\u001b[0;32m----> 4\u001b[0;31m \u001b[0mexplainer\u001b[0m \u001b[0;34m=\u001b[0m \u001b[0mshap\u001b[0m\u001b[0;34m.\u001b[0m\u001b[0mGradientExplainer\u001b[0m\u001b[0;34m(\u001b[0m\u001b[0mmodel\u001b[0m\u001b[0;34m,\u001b[0m \u001b[0mtrain_generator\u001b[0m\u001b[0;34m)\u001b[0m\u001b[0;34m\u001b[0m\u001b[0;34m\u001b[0m\u001b[0m\n\u001b[0m\u001b[1;32m      5\u001b[0m \u001b[0;34m\u001b[0m\u001b[0m\n\u001b[1;32m      6\u001b[0m \u001b[0;31m# we explain the model's predictions on the first three samples of the test set\u001b[0m\u001b[0;34m\u001b[0m\u001b[0;34m\u001b[0m\u001b[0;34m\u001b[0m\u001b[0m\n",
      "\u001b[0;32m~/.conda/envs/tf/lib/python3.7/site-packages/shap/explainers/_gradient.py\u001b[0m in \u001b[0;36m__init__\u001b[0;34m(self, model, data, session, batch_size, local_smoothing)\u001b[0m\n\u001b[1;32m     78\u001b[0m             \u001b[0mself\u001b[0m\u001b[0;34m.\u001b[0m\u001b[0mfeatures\u001b[0m \u001b[0;34m=\u001b[0m \u001b[0mdata\u001b[0m\u001b[0;34m.\u001b[0m\u001b[0mcolumns\u001b[0m\u001b[0;34m.\u001b[0m\u001b[0mvalues\u001b[0m\u001b[0;34m\u001b[0m\u001b[0;34m\u001b[0m\u001b[0m\n\u001b[1;32m     79\u001b[0m         \u001b[0;32melse\u001b[0m\u001b[0;34m:\u001b[0m\u001b[0;34m\u001b[0m\u001b[0;34m\u001b[0m\u001b[0m\n\u001b[0;32m---> 80\u001b[0;31m             \u001b[0mself\u001b[0m\u001b[0;34m.\u001b[0m\u001b[0mfeatures\u001b[0m \u001b[0;34m=\u001b[0m \u001b[0mlist\u001b[0m\u001b[0;34m(\u001b[0m\u001b[0mrange\u001b[0m\u001b[0;34m(\u001b[0m\u001b[0mdata\u001b[0m\u001b[0;34m[\u001b[0m\u001b[0;36m0\u001b[0m\u001b[0;34m]\u001b[0m\u001b[0;34m.\u001b[0m\u001b[0mshape\u001b[0m\u001b[0;34m[\u001b[0m\u001b[0;36m1\u001b[0m\u001b[0;34m]\u001b[0m\u001b[0;34m)\u001b[0m\u001b[0;34m)\u001b[0m\u001b[0;34m\u001b[0m\u001b[0;34m\u001b[0m\u001b[0m\n\u001b[0m\u001b[1;32m     81\u001b[0m \u001b[0;34m\u001b[0m\u001b[0m\n\u001b[1;32m     82\u001b[0m         \u001b[0;32mif\u001b[0m \u001b[0mframework\u001b[0m \u001b[0;34m==\u001b[0m \u001b[0;34m'tensorflow'\u001b[0m\u001b[0;34m:\u001b[0m\u001b[0;34m\u001b[0m\u001b[0;34m\u001b[0m\u001b[0m\n",
      "\u001b[0;31mAttributeError\u001b[0m: 'tuple' object has no attribute 'shape'"
     ]
    }
   ],
   "source": [
    "import shap\n",
    "\n",
    "# since we have two inputs we pass a list of inputs to the explainer\n",
    "explainer = shap.GradientExplainer(model, train_generator)\n",
    "\n",
    "# we explain the model's predictions on the first three samples of the test set\n",
    "shap_values = explainer.shap_values(test_generator)"
   ]
  },
  {
   "cell_type": "code",
   "execution_count": null,
   "id": "4a2300b7",
   "metadata": {},
   "outputs": [],
   "source": []
  }
 ],
 "metadata": {
  "kernelspec": {
   "display_name": "Python 3 (ipykernel)",
   "language": "python",
   "name": "python3"
  },
  "language_info": {
   "codemirror_mode": {
    "name": "ipython",
    "version": 3
   },
   "file_extension": ".py",
   "mimetype": "text/x-python",
   "name": "python",
   "nbconvert_exporter": "python",
   "pygments_lexer": "ipython3",
   "version": "3.7.5"
  }
 },
 "nbformat": 4,
 "nbformat_minor": 5
}
